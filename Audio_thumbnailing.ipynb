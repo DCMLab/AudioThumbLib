{
 "cells": [
  {
   "cell_type": "code",
   "execution_count": 108,
   "outputs": [],
   "source": [
    "# Model parameters (main)\n",
    "# -----------------------\n",
    "\n",
    "audio_filename = 'Monk2_master.mp3'\n",
    "penalty = -2\n",
    "thumbnail_duration_sec = 30\n",
    "thumbnail_start_sec = 5\n",
    "\n",
    "# Model parameters (fine-tuning)\n",
    "# ------------------------------\n",
    "\n",
    "# Tempo parameters for path smoothing\n",
    "tempo_num = 5\n",
    "tempo_rel_min = 0.66\n",
    "tempo_rel_max = 1.5\n",
    "\n",
    "# Self-similarity matrix computation parameters\n",
    "# (\"relative\" threshold strategy is applied; see https://www.audiolabs-erlangen.de/resources/MIR/FMP/C4/C4S2_SSM-Thresholding.html)\n",
    "threshold = 0.15\n",
    "smoothing_filter_length = 21\n",
    "smoothing_filter_downsampling_factor = 5\n",
    "smoothing_length = 12"
   ],
   "metadata": {
    "collapsed": false,
    "pycharm": {
     "name": "#%%\n"
    }
   }
  },
  {
   "cell_type": "code",
   "execution_count": 109,
   "outputs": [],
   "source": [
    "import numpy as np\n",
    "import os, math\n",
    "from numba import jit\n",
    "import libfmp.c4\n",
    "import json\n",
    "import pickle\n",
    "import argparse"
   ],
   "metadata": {
    "collapsed": false,
    "pycharm": {
     "name": "#%%\n"
    }
   }
  },
  {
   "cell_type": "code",
   "execution_count": 110,
   "outputs": [],
   "source": [
    "# Ignore warnings\n",
    "\n",
    "import warnings\n",
    "warnings.filterwarnings('ignore')"
   ],
   "metadata": {
    "collapsed": false,
    "pycharm": {
     "name": "#%%\n"
    }
   }
  },
  {
   "cell_type": "code",
   "execution_count": 111,
   "outputs": [],
   "source": [
    "# Display all results of each cell (not just the last produced)\n",
    "\n",
    "from IPython.core.interactiveshell import InteractiveShell\n",
    "InteractiveShell.ast_node_interactivity = \"all\""
   ],
   "metadata": {
    "collapsed": false,
    "pycharm": {
     "name": "#%%\n"
    }
   }
  },
  {
   "cell_type": "code",
   "execution_count": 112,
   "outputs": [],
   "source": [
    "def normalization_properties_ssm(ssm):\n",
    "    \"\"\"Normalizes self-similarity matrix to fulfill S(n,n)=1\n",
    "    Yields a warning if max(S)<=1 is not fulfilled\n",
    "\n",
    "    Args:\n",
    "        ssm (np.ndarray): Self-similarity matrix (SSM)\n",
    "\n",
    "    Returns:\n",
    "        ssm_normalized (np.ndarray): Normalized self-similarity matrix\n",
    "    \"\"\"\n",
    "    ssm_normalized = ssm.copy()\n",
    "    size = ssm_normalized.shape[0]\n",
    "    for n in range(size):\n",
    "        ssm_normalized[n, n] = 1\n",
    "        max_s = np.max(ssm_normalized)\n",
    "    if max_s > 1:\n",
    "        print('Normalization condition for SSM not fulfill (max > 1)')\n",
    "    return ssm_normalized"
   ],
   "metadata": {
    "collapsed": false,
    "pycharm": {
     "name": "#%%\n"
    }
   }
  },
  {
   "cell_type": "code",
   "execution_count": 113,
   "outputs": [],
   "source": [
    "def compute_induced_segment_family_coverage(path_family):\n",
    "    \"\"\" Induces a segment family and computes its absolute coverage given a path family\n",
    "\n",
    "    Args:\n",
    "        path_family (list): Path family\n",
    "\n",
    "    Returns:\n",
    "        segment_family (np.ndarray): Induced segment family\n",
    "        coverage (float): Absolute coverage of path family\n",
    "    \"\"\"\n",
    "    num_path = len(path_family)\n",
    "    coverage = 0\n",
    "    if num_path > 0:\n",
    "        segment_family = np.zeros((num_path, 2), dtype=int)\n",
    "        for n in range(num_path):\n",
    "            segment_family[n, 0] = path_family[n][0][0]\n",
    "            segment_family[n, 1] = path_family[n][-1][0]\n",
    "            coverage = coverage + segment_family[n, 1] - segment_family[n, 0] + 1\n",
    "    else:\n",
    "        segment_family = np.empty\n",
    "\n",
    "    return segment_family, coverage"
   ],
   "metadata": {
    "collapsed": false,
    "pycharm": {
     "name": "#%%\n"
    }
   }
  },
  {
   "cell_type": "code",
   "execution_count": 114,
   "outputs": [],
   "source": [
    "@jit(nopython=True)\n",
    "def compute_accumulated_score_matrix(S_seg):\n",
    "    \"\"\"Computes the accumulated score matrix for a self-similarity sub-matrix\n",
    "\n",
    "    Args:\n",
    "        S_seg (np.ndarray): Sub-matrix of an enhanced and normalized SSM ``S``\n",
    "            Note: ``S`` must satisfy ``S(n,m) <= 1 and S(n,n) = 1``, where ``m`` is the duration of a potential thumbnail\n",
    "\n",
    "    Returns:\n",
    "        D (np.ndarray): Accumulated score matrix\n",
    "        score (float): Score of optimal path family\n",
    "    \"\"\"\n",
    "    inf = math.inf\n",
    "    N = S_seg.shape[0]\n",
    "    M = S_seg.shape[1]+1\n",
    "\n",
    "    # Initializing score matrix\n",
    "    D = -inf * np.ones((N, M), dtype=np.float64)\n",
    "    D[0, 0] = 0.\n",
    "    D[0, 1] = D[0, 0] + S_seg[0, 0]\n",
    "\n",
    "    # Dynamic programming\n",
    "    for n in range(1, N):\n",
    "        D[n, 0] = max(D[n-1, 0], D[n-1, -1])\n",
    "        D[n, 1] = D[n, 0] + S_seg[n, 0]\n",
    "        for m in range(2, M):\n",
    "            D[n, m] = S_seg[n, m-1] + max(D[n-1, m-1], D[n-1, m-2], D[n-2, m-1])\n",
    "\n",
    "    # Score of optimal path family\n",
    "    score = np.maximum(D[N-1, 0], D[N-1, M-1])\n",
    "\n",
    "    return D, score"
   ],
   "metadata": {
    "collapsed": false,
    "pycharm": {
     "name": "#%%\n"
    }
   }
  },
  {
   "cell_type": "code",
   "execution_count": 115,
   "outputs": [],
   "source": [
    "@jit(nopython=True)\n",
    "def compute_optimal_path_family(D):\n",
    "    \"\"\"Compute an optimal path family given an accumulated score matrix\n",
    "\n",
    "    Args:\n",
    "        D (np.ndarray): Accumulated score matrix\n",
    "\n",
    "    Returns:\n",
    "        path_family (list): Optimal path family consisting of list of paths\n",
    "            (each path being a list of index pairs)\n",
    "    \"\"\"\n",
    "    # Initialization\n",
    "    inf = math.inf\n",
    "    N = int(D.shape[0])\n",
    "    M = int(D.shape[1])\n",
    "\n",
    "    path_family = []\n",
    "    path = []\n",
    "\n",
    "    n = N - 1\n",
    "    if D[n, M-1] < D[n, 0]:\n",
    "        m = 0\n",
    "    else:\n",
    "        m = M-1\n",
    "        path_point = (N-1, M-2)\n",
    "        path.append(path_point)\n",
    "\n",
    "    # Backtracking\n",
    "    while n > 0 or m > 0:\n",
    "\n",
    "        # obtaining the set of possible predecessors given our current position\n",
    "        if n <= 2 and m <= 2:\n",
    "            predecessors = [(n-1, m-1)]\n",
    "        elif n <= 2 and m > 2:\n",
    "            predecessors = [(n-1, m-1), (n-1, m-2)]\n",
    "        elif n > 2 and m <= 2:\n",
    "            predecessors = [(n-1, m-1), (n-2, m-1)]\n",
    "        else:\n",
    "            predecessors = [(n-1, m-1), (n-2, m-1), (n-1, m-2)]\n",
    "\n",
    "        # case for the first row. Only horizontal movements allowed\n",
    "        if n == 0:\n",
    "            cell = (0, m-1)\n",
    "        # case for the elevator column: we can keep going down the column or jumping to the end of the next row\n",
    "        elif m == 0:\n",
    "            if D[n-1, M-1] > D[n-1, 0]:\n",
    "                cell = (n-1, M-1)\n",
    "                path_point = (n-1, M-2)\n",
    "                if len(path) > 0:\n",
    "                    path.reverse()\n",
    "                    path_family.append(path)\n",
    "                path = [path_point]\n",
    "            else:\n",
    "                cell = (n-1, 0)\n",
    "        # case for m=1, only horizontal steps to the elevator column are allowed\n",
    "        elif m == 1:\n",
    "            cell = (n, 0)\n",
    "        # regular case\n",
    "        else:\n",
    "\n",
    "            # obtaining the best of the possible predecessors\n",
    "            max_val = -inf\n",
    "            for i, cur_predecessor in enumerate(predecessors):\n",
    "                if max_val < D[cur_predecessor[0], cur_predecessor[1]]:\n",
    "                    max_val = D[cur_predecessor[0], cur_predecessor[1]]\n",
    "                    cell = cur_predecessor\n",
    "\n",
    "            # saving the point in the current path\n",
    "            path_point = (cell[0], cell[1]-1)\n",
    "            path.append(path_point)\n",
    "\n",
    "        (n, m) = cell\n",
    "\n",
    "    # adding last path to the path family\n",
    "    path.reverse()\n",
    "    path_family.append(path)\n",
    "    path_family.reverse()\n",
    "\n",
    "    return path_family"
   ],
   "metadata": {
    "collapsed": false,
    "pycharm": {
     "name": "#%%\n"
    }
   }
  },
  {
   "cell_type": "code",
   "execution_count": 116,
   "outputs": [],
   "source": [
    "def compute_fitness(path_family, score, N):\n",
    "    \"\"\"Compute the fitness measure and other metrics of a path family\n",
    "\n",
    "    Args:\n",
    "        path_family (list): Path family\n",
    "        score (float): Score\n",
    "        N (int): Length of feature sequence\n",
    "\n",
    "    Returns:\n",
    "        fitness (float): Fitness\n",
    "        score (float): Score\n",
    "        score_n (float): Normalized score\n",
    "        coverage (float): Coverage\n",
    "        coverage_n (float): Normalized coverage\n",
    "        path_family_length (int): Length of path family (total number of cells)\n",
    "    \"\"\"\n",
    "    eps = 1e-16\n",
    "    num_path = len(path_family)\n",
    "    M = path_family[0][-1][1] + 1\n",
    "\n",
    "    # Normalized score\n",
    "    path_family_length = 0\n",
    "    for n in range(num_path):\n",
    "        path_family_length = path_family_length + len(path_family[n])\n",
    "    score_n = (score - M) / (path_family_length + eps)\n",
    "\n",
    "    # Normalized coverage\n",
    "    segment_family, coverage = compute_induced_segment_family_coverage(path_family)\n",
    "    coverage_n = (coverage - M) / (N + eps)\n",
    "\n",
    "    # Fitness measure\n",
    "    fitness = 2 * score_n * coverage_n / (score_n + coverage_n + eps)\n",
    "\n",
    "    return fitness, score, score_n, coverage, coverage_n, path_family_length"
   ],
   "metadata": {
    "collapsed": false,
    "pycharm": {
     "name": "#%%\n"
    }
   }
  },
  {
   "cell_type": "code",
   "execution_count": 117,
   "outputs": [],
   "source": [
    "# Self-similarity matrix computation from audio\n",
    "\n",
    "def initialize(audio_fn):\n",
    "    \"\"\"Load an audio file and compute a normalized self-similarity matrix\n",
    "\n",
    "    Args:\n",
    "        audio_fn (string): Audio file name\n",
    "\n",
    "    Returns:\n",
    "        audio: Audio data\n",
    "        audio_duration: Audio duration (in sec)\n",
    "        ssm: Normalized self-similarity matrix of input audio\n",
    "        fs_feature: Feature rate\n",
    "    \"\"\"\n",
    "\n",
    "    tempo_rel_set = libfmp.c4.compute_tempo_rel_set(tempo_rel_min, tempo_rel_max, tempo_num)\n",
    "\n",
    "    audio, audio_duration, _, fs_feature, ssm, I = libfmp.c4.compute_sm_from_filename\\\n",
    "        (audio_fn, L=smoothing_filter_length, H=smoothing_filter_downsampling_factor, L_smooth=smoothing_length, tempo_rel_set=tempo_rel_set, penalty=penalty, thresh=threshold)\n",
    "\n",
    "    ssm = normalization_properties_ssm(ssm)\n",
    "\n",
    "    return audio, audio_duration, ssm, fs_feature"
   ],
   "metadata": {
    "collapsed": false,
    "pycharm": {
     "name": "#%%\n"
    }
   }
  },
  {
   "cell_type": "code",
   "execution_count": 118,
   "outputs": [],
   "source": [
    "# parser = argparse.ArgumentParser(description='Audio file thumbnailing.')\n",
    "# parser.add_argument('files', metavar='file', type=str, nargs='+', help='A file to identify an optimal thumbnail in.')\n",
    "# args, unknown = parser.parse_known_args(['-h', 'file1', 'file2', 'file3'])\n",
    "\n",
    "x, x_duration, s, Fs_feature = initialize(audio_filename)"
   ],
   "metadata": {
    "collapsed": false,
    "pycharm": {
     "name": "#%%\n"
    }
   }
  },
  {
   "cell_type": "code",
   "execution_count": 119,
   "outputs": [],
   "source": [
    "seg_sec = [thumbnail_start_sec, thumbnail_start_sec+thumbnail_duration_sec]\n",
    "seg = [int(seg_sec[0]*Fs_feature), int(seg_sec[1]*Fs_feature)]\n",
    "s_seg = s[:,seg[0]:seg[1]+1]\n",
    "d, score = compute_accumulated_score_matrix(s_seg)\n",
    "path_family = compute_optimal_path_family(d)"
   ],
   "metadata": {
    "collapsed": false,
    "pycharm": {
     "name": "#%%\n"
    }
   }
  },
  {
   "cell_type": "code",
   "execution_count": 121,
   "outputs": [
    {
     "name": "stdout",
     "output_type": "stream",
     "text": [
      "{\n",
      "  \"filename\": \"Monk2_master.mp3\",\n",
      "  \"thumbnail\": {\n",
      "    \"nominal_duration_seconds\": 30,\n",
      "    \"instances_seconds\": \"[[5.0, 35.0], [140.0, 175.0]]\",\n",
      "    \"instances_count\": 2,\n",
      "    \"score\": \"71.031\",\n",
      "    \"coverage_seconds\": 66.0,\n",
      "    \"normalized_score\": \"0.086\",\n",
      "    \"normalized_coverage\": \"0.196\",\n",
      "    \"fitness\": \"0.119\"\n",
      "  },\n",
      "  \"context\": {\n",
      "    \"audio_duration_seconds\": \"181.16\",\n",
      "    \"feature_rate_hz\": 2.0,\n",
      "    \"ssm_dimensions\": {\n",
      "      \"x\": 363,\n",
      "      \"y\": 363\n",
      "    }\n",
      "  }\n",
      "}\n"
     ]
    }
   ],
   "source": [
    "n = s.shape[0]\n",
    "\n",
    "segment_family, coverage = compute_induced_segment_family_coverage(path_family)\n",
    "fitness, score, score_n, coverage, coverage_n, path_family_length = compute_fitness(\n",
    "    path_family, score, n)\n",
    "\n",
    "thumbnail = {\n",
    "    \"filename\" : audio_filename,\n",
    "    \"thumbnail\": {\n",
    "        \"nominal_duration_seconds\": thumbnail_duration_sec,\n",
    "        \"instances_seconds\": json.dumps((segment_family / Fs_feature).tolist()),\n",
    "        \"instances_count\": len(path_family),\n",
    "        # \"instances_total_length\": '%d'%path_family_length,\n",
    "        \"score\": '%0.3f'%score,\n",
    "        \"coverage_seconds\": coverage / Fs_feature,\n",
    "        \"normalized_score\": '%0.3f'%score_n,\n",
    "        \"normalized_coverage\": '%0.3f'%coverage_n,\n",
    "\n",
    "        \"fitness\": '%0.3f'%fitness\n",
    "    },\n",
    "    \"context\": {\n",
    "        \"audio_duration_seconds\": '{:.2f}'.format(x_duration),\n",
    "        \"feature_rate_hz\" : Fs_feature,\n",
    "        \"ssm_dimensions\": {\n",
    "            \"x\": s.shape[0],\n",
    "            \"y\": s.shape[1]\n",
    "        }\n",
    "    }\n",
    "}\n",
    "\n",
    "print(json.dumps(thumbnail, indent=2))"
   ],
   "metadata": {
    "collapsed": false,
    "pycharm": {
     "name": "#%%\n"
    }
   }
  }
 ],
 "metadata": {
  "anaconda-cloud": {},
  "celltoolbar": "Raw Cell Format",
  "colab": {
   "collapsed_sections": [],
   "name": "Audio_thumbnailing.ipynb",
   "provenance": []
  },
  "kernelspec": {
   "display_name": "Python 3 (ipykernel)",
   "language": "python",
   "name": "python3"
  },
  "language_info": {
   "codemirror_mode": {
    "name": "ipython",
    "version": 3
   },
   "file_extension": ".py",
   "mimetype": "text/x-python",
   "name": "python",
   "nbconvert_exporter": "python",
   "pygments_lexer": "ipython3",
   "version": "3.10.5"
  }
 },
 "nbformat": 4,
 "nbformat_minor": 1
}