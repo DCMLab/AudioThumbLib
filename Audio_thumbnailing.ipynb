{
 "cells": [
  {
   "cell_type": "code",
   "execution_count": 15,
   "outputs": [],
   "source": [
    "# Model parameters (main)\n",
    "# -----------------------\n",
    "\n",
    "audio_filename = 'Monk2_master.mp3'\n",
    "penalty = -2\n",
    "thumbnail_duration_sec = 30\n",
    "thumbnail_step_sec = 3\n",
    "thumbnail_start_sec = 5\n",
    "\n",
    "# Model parameters (fine-tuning)\n",
    "# ------------------------------\n",
    "\n",
    "# Tempo parameters for path smoothing\n",
    "tempo_num = 5\n",
    "tempo_rel_min = 0.66\n",
    "tempo_rel_max = 1.5\n",
    "\n",
    "# Self-Similarity Matrix computation parameters\n",
    "# (\"relative\" threshold strategy is applied; see https://www.audiolabs-erlangen.de/resources/MIR/FMP/C4/C4S2_SSM-Thresholding.html)\n",
    "threshold = 0.15\n",
    "smoothing_filter_length = 21\n",
    "smoothing_filter_downsampling_factor = 5\n",
    "smoothing_length = 12"
   ],
   "metadata": {
    "collapsed": false,
    "pycharm": {
     "name": "#%%\n"
    }
   }
  },
  {
   "cell_type": "code",
   "execution_count": 16,
   "outputs": [],
   "source": [
    "import numpy as np\n",
    "import os, math\n",
    "from numba import jit\n",
    "import libfmp.c4\n",
    "\n",
    "import argparse"
   ],
   "metadata": {
    "collapsed": false,
    "pycharm": {
     "name": "#%%\n"
    }
   }
  },
  {
   "cell_type": "code",
   "execution_count": 17,
   "outputs": [],
   "source": [
    "# Ignore warnings\n",
    "\n",
    "import warnings\n",
    "warnings.filterwarnings('ignore')"
   ],
   "metadata": {
    "collapsed": false,
    "pycharm": {
     "name": "#%%\n"
    }
   }
  },
  {
   "cell_type": "code",
   "execution_count": 18,
   "outputs": [],
   "source": [
    "# Display all results of each cell (not just the last produced)\n",
    "\n",
    "from IPython.core.interactiveshell import InteractiveShell\n",
    "InteractiveShell.ast_node_interactivity = \"all\""
   ],
   "metadata": {
    "collapsed": false,
    "pycharm": {
     "name": "#%%\n"
    }
   }
  },
  {
   "cell_type": "code",
   "execution_count": 19,
   "outputs": [],
   "source": [
    "def normalization_properties_ssm(ssm):\n",
    "    \"\"\"Normalizes self-similarity matrix to fulfill S(n,n)=1.\n",
    "    Yields a warning if max(S)<=1 is not fulfilled\n",
    "\n",
    "    Args:\n",
    "        ssm (np.ndarray): Self-similarity matrix (SSM)\n",
    "\n",
    "    Returns:\n",
    "        ssm_normalized (np.ndarray): Normalized self-similarity matrix\n",
    "    \"\"\"\n",
    "    ssm_normalized = ssm.copy()\n",
    "    size = ssm_normalized.shape[0]\n",
    "    for n in range(size):\n",
    "        ssm_normalized[n, n] = 1\n",
    "        max_s = np.max(ssm_normalized)\n",
    "    if max_s > 1:\n",
    "        print('Normalization condition for SSM not fulfill (max > 1)')\n",
    "    return ssm_normalized"
   ],
   "metadata": {
    "collapsed": false,
    "pycharm": {
     "name": "#%%\n"
    }
   }
  },
  {
   "cell_type": "code",
   "execution_count": 20,
   "outputs": [],
   "source": [
    "def compute_induced_segment_family_coverage(path_family):\n",
    "    \"\"\"Compute induced segment family and absolute coverage from path family\n",
    "\n",
    "    Args:\n",
    "        path_family (list): Path family\n",
    "\n",
    "    Returns:\n",
    "        segment_family (np.ndarray): Induced segment family\n",
    "        coverage (float): Absolute coverage of path family\n",
    "    \"\"\"\n",
    "    num_path = len(path_family)\n",
    "    coverage = 0\n",
    "    if num_path > 0:\n",
    "        segment_family = np.zeros((num_path, 2), dtype=int)\n",
    "        for n in range(num_path):\n",
    "            segment_family[n, 0] = path_family[n][0][0]\n",
    "            segment_family[n, 1] = path_family[n][-1][0]\n",
    "            coverage = coverage + segment_family[n, 1] - segment_family[n, 0] + 1\n",
    "    else:\n",
    "        segment_family = np.empty\n",
    "\n",
    "    return segment_family, coverage"
   ],
   "metadata": {
    "collapsed": false,
    "pycharm": {
     "name": "#%%\n"
    }
   }
  },
  {
   "cell_type": "code",
   "execution_count": 21,
   "outputs": [],
   "source": [
    "@jit(nopython=True)\n",
    "def compute_accumulated_score_matrix(S_seg):\n",
    "    \"\"\"Compute the accumulated score matrix\n",
    "\n",
    "    Args:\n",
    "        S_seg (np.ndarray): Submatrix of an enhanced and normalized SSM ``S``.\n",
    "            Note: ``S`` must satisfy ``S(n,m) <= 1 and S(n,n) = 1``\n",
    "\n",
    "    Returns:\n",
    "        D (np.ndarray): Accumulated score matrix\n",
    "        score (float): Score of optimal path family\n",
    "    \"\"\"\n",
    "    inf = math.inf\n",
    "    N = S_seg.shape[0]\n",
    "    M = S_seg.shape[1]+1\n",
    "\n",
    "    # Initializing score matrix\n",
    "    D = -inf * np.ones((N, M), dtype=np.float64)\n",
    "    D[0, 0] = 0.\n",
    "    D[0, 1] = D[0, 0] + S_seg[0, 0]\n",
    "\n",
    "    # Dynamic programming\n",
    "    for n in range(1, N):\n",
    "        D[n, 0] = max(D[n-1, 0], D[n-1, -1])\n",
    "        D[n, 1] = D[n, 0] + S_seg[n, 0]\n",
    "        for m in range(2, M):\n",
    "            D[n, m] = S_seg[n, m-1] + max(D[n-1, m-1], D[n-1, m-2], D[n-2, m-1])\n",
    "\n",
    "    # Score of optimal path family\n",
    "    score = np.maximum(D[N-1, 0], D[N-1, M-1])\n",
    "\n",
    "    return D, score"
   ],
   "metadata": {
    "collapsed": false,
    "pycharm": {
     "name": "#%%\n"
    }
   }
  },
  {
   "cell_type": "code",
   "execution_count": 22,
   "outputs": [],
   "source": [
    "@jit(nopython=True)\n",
    "def compute_optimal_path_family(D):\n",
    "    \"\"\"Compute an optimal path family given an accumulated score matrix\n",
    "\n",
    "    Args:\n",
    "        D (np.ndarray): Accumulated score matrix\n",
    "\n",
    "    Returns:\n",
    "        path_family (list): Optimal path family consisting of list of paths\n",
    "            (each path being a list of index pairs)\n",
    "    \"\"\"\n",
    "    # Initialization\n",
    "    inf = math.inf\n",
    "    N = int(D.shape[0])\n",
    "    M = int(D.shape[1])\n",
    "\n",
    "    path_family = []\n",
    "    path = []\n",
    "\n",
    "    n = N - 1\n",
    "    if D[n, M-1] < D[n, 0]:\n",
    "        m = 0\n",
    "    else:\n",
    "        m = M-1\n",
    "        path_point = (N-1, M-2)\n",
    "        path.append(path_point)\n",
    "\n",
    "    # Backtracking\n",
    "    while n > 0 or m > 0:\n",
    "\n",
    "        # obtaining the set of possible predecessors given our current position\n",
    "        if n <= 2 and m <= 2:\n",
    "            predecessors = [(n-1, m-1)]\n",
    "        elif n <= 2 and m > 2:\n",
    "            predecessors = [(n-1, m-1), (n-1, m-2)]\n",
    "        elif n > 2 and m <= 2:\n",
    "            predecessors = [(n-1, m-1), (n-2, m-1)]\n",
    "        else:\n",
    "            predecessors = [(n-1, m-1), (n-2, m-1), (n-1, m-2)]\n",
    "\n",
    "        # case for the first row. Only horizontal movements allowed\n",
    "        if n == 0:\n",
    "            cell = (0, m-1)\n",
    "        # case for the elevator column: we can keep going down the column or jumping to the end of the next row\n",
    "        elif m == 0:\n",
    "            if D[n-1, M-1] > D[n-1, 0]:\n",
    "                cell = (n-1, M-1)\n",
    "                path_point = (n-1, M-2)\n",
    "                if len(path) > 0:\n",
    "                    path.reverse()\n",
    "                    path_family.append(path)\n",
    "                path = [path_point]\n",
    "            else:\n",
    "                cell = (n-1, 0)\n",
    "        # case for m=1, only horizontal steps to the elevator column are allowed\n",
    "        elif m == 1:\n",
    "            cell = (n, 0)\n",
    "        # regular case\n",
    "        else:\n",
    "\n",
    "            # obtaining the best of the possible predecessors\n",
    "            max_val = -inf\n",
    "            for i, cur_predecessor in enumerate(predecessors):\n",
    "                if max_val < D[cur_predecessor[0], cur_predecessor[1]]:\n",
    "                    max_val = D[cur_predecessor[0], cur_predecessor[1]]\n",
    "                    cell = cur_predecessor\n",
    "\n",
    "            # saving the point in the current path\n",
    "            path_point = (cell[0], cell[1]-1)\n",
    "            path.append(path_point)\n",
    "\n",
    "        (n, m) = cell\n",
    "\n",
    "    # adding last path to the path family\n",
    "    path.reverse()\n",
    "    path_family.append(path)\n",
    "    path_family.reverse()\n",
    "\n",
    "    return path_family"
   ],
   "metadata": {
    "collapsed": false,
    "pycharm": {
     "name": "#%%\n"
    }
   }
  },
  {
   "cell_type": "code",
   "execution_count": 23,
   "outputs": [],
   "source": [
    "def compute_fitness(path_family, score, N):\n",
    "    \"\"\"Compute fitness measure and other metrics from path family\n",
    "\n",
    "    Args:\n",
    "        path_family (list): Path family\n",
    "        score (float): Score\n",
    "        N (int): Length of feature sequence\n",
    "\n",
    "    Returns:\n",
    "        fitness (float): Fitness\n",
    "        score (float): Score\n",
    "        score_n (float): Normalized score\n",
    "        coverage (float): Coverage\n",
    "        coverage_n (float): Normalized coverage\n",
    "        path_family_length (int): Length of path family (total number of cells)\n",
    "    \"\"\"\n",
    "    eps = 1e-16\n",
    "    num_path = len(path_family)\n",
    "    M = path_family[0][-1][1] + 1\n",
    "\n",
    "    # Normalized score\n",
    "    path_family_length = 0\n",
    "    for n in range(num_path):\n",
    "        path_family_length = path_family_length + len(path_family[n])\n",
    "    score_n = (score - M) / (path_family_length + eps)\n",
    "\n",
    "    # Normalized coverage\n",
    "    segment_family, coverage = compute_induced_segment_family_coverage(path_family)\n",
    "    coverage_n = (coverage - M) / (N + eps)\n",
    "\n",
    "    # Fitness measure\n",
    "    fitness = 2 * score_n * coverage_n / (score_n + coverage_n + eps)\n",
    "\n",
    "    return fitness, score, score_n, coverage, coverage_n, path_family_length"
   ],
   "metadata": {
    "collapsed": false,
    "pycharm": {
     "name": "#%%\n"
    }
   }
  },
  {
   "cell_type": "code",
   "execution_count": 24,
   "outputs": [],
   "source": [
    "# Self-Similarity Matrix computation from audio\n",
    "\n",
    "def initialize(audio_fn):\n",
    "    \"\"\"Load audio file and compute a normalized Self-Similarity Matrix using given model parameters\n",
    "\n",
    "    Args:\n",
    "        audio_fn (string): Audio file name\n",
    "\n",
    "    Returns:\n",
    "        audio: Audio data\n",
    "        audio_duration: Audio duration (in sec)\n",
    "        ssm: Normalized Self-Similarity Matrix of input audio\n",
    "        fs_feature: Feature rate\n",
    "    \"\"\"\n",
    "\n",
    "    tempo_rel_set = libfmp.c4.compute_tempo_rel_set(tempo_rel_min, tempo_rel_max, tempo_num)\n",
    "\n",
    "    audio, audio_duration, _, fs_feature, ssm, I = libfmp.c4.compute_sm_from_filename\\\n",
    "        (audio_fn, L=smoothing_filter_length, H=smoothing_filter_downsampling_factor, L_smooth=smoothing_length, tempo_rel_set=tempo_rel_set, penalty=penalty, thresh=threshold)\n",
    "\n",
    "    ssm = normalization_properties_ssm(ssm)\n",
    "\n",
    "    return audio, audio_duration, ssm, fs_feature"
   ],
   "metadata": {
    "collapsed": false,
    "pycharm": {
     "name": "#%%\n"
    }
   }
  },
  {
   "cell_type": "code",
   "execution_count": 25,
   "outputs": [
    {
     "name": "stdout",
     "output_type": "stream",
     "text": [
      "================================================\n",
      "File name: Monk2_master.mp3\n",
      "Feature rate (Fs): 2.0 Hz\n",
      "SSM dimensions:  363 x 363\n",
      "Audio signal duration (x_duration): 181.16 sec\n",
      "Thumbnail duration:  30 sec\n",
      "================================================\n"
     ]
    }
   ],
   "source": [
    "# parser = argparse.ArgumentParser(description='Audio file thumbmailing.')\n",
    "# parser.add_argument('files', metavar='file', type=str, nargs='+', help='A file to identify an optimal thumbnail in.')\n",
    "# args, unknown = parser.parse_known_args(['-h', 'file1', 'file2', 'file3'])\n",
    "\n",
    "x, x_duration, s, Fs_feature = initialize(audio_filename)\n",
    "\n",
    "print('================================================')\n",
    "print('File name:', audio_filename)\n",
    "print('Feature rate (Fs):', Fs_feature, 'Hz')\n",
    "print('SSM dimensions: ', s.shape[0], 'x', s.shape[1])\n",
    "print('Audio signal duration (x_duration):', '{:.2f}'.format(x_duration), 'sec')\n",
    "print('Thumbnail duration: ', thumbnail_duration_sec, 'sec')\n",
    "print('================================================')"
   ],
   "metadata": {
    "collapsed": false,
    "pycharm": {
     "name": "#%%\n"
    }
   }
  },
  {
   "cell_type": "code",
   "execution_count": 26,
   "outputs": [],
   "source": [
    "seg_sec = [thumbnail_start_sec, thumbnail_start_sec+thumbnail_duration_sec]\n",
    "seg = [int(seg_sec[0]*Fs_feature), int(seg_sec[1]*Fs_feature)]\n",
    "s_seg = s[:,seg[0]:seg[1]+1]\n",
    "d, score = compute_accumulated_score_matrix(s_seg)\n",
    "path_family = compute_optimal_path_family(d)"
   ],
   "metadata": {
    "collapsed": false,
    "pycharm": {
     "name": "#%%\n"
    }
   }
  },
  {
   "cell_type": "code",
   "execution_count": 27,
   "outputs": [
    {
     "name": "stdout",
     "output_type": "stream",
     "text": [
      "......................................\n",
      "Evaluating segment: [5, 35] (sec)\n",
      "Number of paths in family:  2\n",
      "Induced segment path family:\n",
      " [[  5.  35.]\n",
      " [140. 175.]] (sec)\n",
      "Score (normalized): 0.086\n",
      "Coverage (normalized): 0.196\n",
      "Fitness: 0.119\n"
     ]
    }
   ],
   "source": [
    "n = s.shape[0]\n",
    "\n",
    "segment_family, coverage = compute_induced_segment_family_coverage(path_family)\n",
    "fitness, score, score_n, coverage, coverage_n, path_family_length = compute_fitness(\n",
    "    path_family, score, n)\n",
    "\n",
    "print('......................................')\n",
    "print('Evaluating segment:', seg_sec, '(sec)')\n",
    "print('Number of paths in family: ', len(path_family))\n",
    "print('Induced segment path family:\\n', segment_family / Fs_feature, '(sec)')\n",
    "#print('Score: %0.3f'%score)\n",
    "print('Score (normalized): %0.3f'%score_n)\n",
    "# print('Coverage: %d'%coverage) \n",
    "print('Coverage (normalized): %0.3f'%coverage_n)\n",
    "#print('Length of all paths of family: %d'%path_family_length)\n",
    "print('Fitness: %0.3f'%fitness)"
   ],
   "metadata": {
    "collapsed": false,
    "pycharm": {
     "name": "#%%\n"
    }
   }
  }
 ],
 "metadata": {
  "anaconda-cloud": {},
  "celltoolbar": "Raw Cell Format",
  "colab": {
   "collapsed_sections": [],
   "name": "Audio_thumbnailing.ipynb",
   "provenance": []
  },
  "kernelspec": {
   "display_name": "Python 3 (ipykernel)",
   "language": "python",
   "name": "python3"
  },
  "language_info": {
   "codemirror_mode": {
    "name": "ipython",
    "version": 3
   },
   "file_extension": ".py",
   "mimetype": "text/x-python",
   "name": "python",
   "nbconvert_exporter": "python",
   "pygments_lexer": "ipython3",
   "version": "3.10.5"
  }
 },
 "nbformat": 4,
 "nbformat_minor": 1
}